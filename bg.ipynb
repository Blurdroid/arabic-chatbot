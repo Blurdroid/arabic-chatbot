{
 "cells": [
  {
   "cell_type": "code",
   "execution_count": 1,
   "metadata": {},
   "outputs": [],
   "source": [
    "import psycopg2"
   ]
  },
  {
   "cell_type": "code",
   "execution_count": 3,
   "metadata": {},
   "outputs": [],
   "source": [
    "connection = psycopg2.connect(\n",
    "               database=\"demo\",\n",
    "               user=\"odoo\",\n",
    "               password=\"admin\",\n",
    "               host=\"localhost\",\n",
    "               port=\"5432\"\n",
    "           )\n",
    "\n",
    "cursor = connection.cursor()"
   ]
  },
  {
   "cell_type": "code",
   "execution_count": 4,
   "metadata": {},
   "outputs": [],
   "source": [
    "query = \"select name from hr_employee;\"\n",
    "\n",
    "cursor.execute(query)\n",
    "\n",
    "employees = cursor.fetchall()\n",
    "\n",
    "# convert employees into list and store it in employees_list\n",
    "\n",
    "employees_list = [list(employee) for employee in employees]"
   ]
  },
  {
   "cell_type": "code",
   "execution_count": 8,
   "metadata": {},
   "outputs": [
    {
     "data": {
      "text/plain": [
       "[('Mitchell Admin',),\n",
       " ('Marc Demo',),\n",
       " ('Ronnie Hart',),\n",
       " ('Anita Oliver',),\n",
       " ('Sharlene Rhodes',),\n",
       " ('Randall Lewis',),\n",
       " ('Jennie Fletcher',),\n",
       " ('Keith Byrd',),\n",
       " ('Walter Horton',),\n",
       " ('Doris Cole',),\n",
       " ('Rachel Perry',),\n",
       " ('Beth Evans',),\n",
       " ('Ernest Reed',),\n",
       " ('Eli Lambert',),\n",
       " ('Abigail Peterson',),\n",
       " ('Audrey Peterson',),\n",
       " ('Toni Jimenez',),\n",
       " ('Jeffrey Kelly',),\n",
       " ('Tina Williamson',),\n",
       " ('Paul Williams',)]"
      ]
     },
     "execution_count": 8,
     "metadata": {},
     "output_type": "execute_result"
    }
   ],
   "source": [
    "employees"
   ]
  },
  {
   "cell_type": "code",
   "execution_count": 6,
   "metadata": {},
   "outputs": [],
   "source": [
    "employees_list = [list(employee) for employee in employees]"
   ]
  },
  {
   "cell_type": "code",
   "execution_count": 7,
   "metadata": {},
   "outputs": [
    {
     "data": {
      "text/plain": [
       "[['Mitchell Admin'],\n",
       " ['Marc Demo'],\n",
       " ['Ronnie Hart'],\n",
       " ['Anita Oliver'],\n",
       " ['Sharlene Rhodes'],\n",
       " ['Randall Lewis'],\n",
       " ['Jennie Fletcher'],\n",
       " ['Keith Byrd'],\n",
       " ['Walter Horton'],\n",
       " ['Doris Cole'],\n",
       " ['Rachel Perry'],\n",
       " ['Beth Evans'],\n",
       " ['Ernest Reed'],\n",
       " ['Eli Lambert'],\n",
       " ['Abigail Peterson'],\n",
       " ['Audrey Peterson'],\n",
       " ['Toni Jimenez'],\n",
       " ['Jeffrey Kelly'],\n",
       " ['Tina Williamson'],\n",
       " ['Paul Williams']]"
      ]
     },
     "execution_count": 7,
     "metadata": {},
     "output_type": "execute_result"
    }
   ],
   "source": [
    "employees_list"
   ]
  },
  {
   "cell_type": "code",
   "execution_count": 21,
   "metadata": {},
   "outputs": [
    {
     "ename": "TypeError",
     "evalue": "'builtin_function_or_method' object is not iterable",
     "output_type": "error",
     "traceback": [
      "\u001b[0;31m---------------------------------------------------------------------------\u001b[0m",
      "\u001b[0;31mTypeError\u001b[0m                                 Traceback (most recent call last)",
      "\u001b[1;32m/home/ziad/Downloads/spec/bg.ipynb Cell 7\u001b[0m line \u001b[0;36m8\n\u001b[1;32m      <a href='vscode-notebook-cell:/home/ziad/Downloads/spec/bg.ipynb#W6sZmlsZQ%3D%3D?line=4'>5</a>\u001b[0m employees \u001b[39m=\u001b[39m cursor\u001b[39m.\u001b[39mfetchall\n\u001b[1;32m      <a href='vscode-notebook-cell:/home/ziad/Downloads/spec/bg.ipynb#W6sZmlsZQ%3D%3D?line=6'>7</a>\u001b[0m \u001b[39m# convert employees into list and store it in employees_list\u001b[39;00m\n\u001b[0;32m----> <a href='vscode-notebook-cell:/home/ziad/Downloads/spec/bg.ipynb#W6sZmlsZQ%3D%3D?line=7'>8</a>\u001b[0m employees_list \u001b[39m=\u001b[39m [\u001b[39mlist\u001b[39m(employee) \u001b[39mfor\u001b[39;00m employee \u001b[39min\u001b[39;00m employees]\n\u001b[1;32m     <a href='vscode-notebook-cell:/home/ziad/Downloads/spec/bg.ipynb#W6sZmlsZQ%3D%3D?line=9'>10</a>\u001b[0m slot_value \u001b[39m=\u001b[39m \u001b[39m'\u001b[39m\u001b[39mMitchell Admin\u001b[39m\u001b[39m'\u001b[39m\n\u001b[1;32m     <a href='vscode-notebook-cell:/home/ziad/Downloads/spec/bg.ipynb#W6sZmlsZQ%3D%3D?line=10'>11</a>\u001b[0m \u001b[39m#database query\u001b[39;00m\n",
      "\u001b[0;31mTypeError\u001b[0m: 'builtin_function_or_method' object is not iterable"
     ]
    }
   ],
   "source": [
    "query = \"select name from hr_employee;\"\n",
    "\n",
    "cursor.execute(query)\n",
    "\n",
    "employees = cursor.fetchall\n",
    "\n",
    "# convert employees into list and store it in employees_list\n",
    "employees_list = [list(employee) for employee in employees]\n",
    "\n",
    "slot_value = 'Mitchell Admin'\n",
    "#database query\n",
    "query = \"select name, duration_display from hr_leave as l left join hr_employee as e on l.id = e.id where e.name = %s\"\n",
    "cursor.execute(query, (slot_value,))\n",
    "results = cursor.fetchall()\n"
   ]
  },
  {
   "cell_type": "code",
   "execution_count": 18,
   "metadata": {},
   "outputs": [
    {
     "data": {
      "text/plain": [
       "[['Mitchell Admin'],\n",
       " ['Marc Demo'],\n",
       " ['Ronnie Hart'],\n",
       " ['Anita Oliver'],\n",
       " ['Sharlene Rhodes'],\n",
       " ['Randall Lewis'],\n",
       " ['Jennie Fletcher'],\n",
       " ['Keith Byrd'],\n",
       " ['Walter Horton'],\n",
       " ['Doris Cole'],\n",
       " ['Rachel Perry'],\n",
       " ['Beth Evans'],\n",
       " ['Ernest Reed'],\n",
       " ['Eli Lambert'],\n",
       " ['Abigail Peterson'],\n",
       " ['Audrey Peterson'],\n",
       " ['Toni Jimenez'],\n",
       " ['Jeffrey Kelly'],\n",
       " ['Tina Williamson'],\n",
       " ['Paul Williams']]"
      ]
     },
     "execution_count": 18,
     "metadata": {},
     "output_type": "execute_result"
    }
   ],
   "source": [
    "employees_list"
   ]
  }
 ],
 "metadata": {
  "kernelspec": {
   "display_name": "rasa",
   "language": "python",
   "name": "python3"
  },
  "language_info": {
   "codemirror_mode": {
    "name": "ipython",
    "version": 3
   },
   "file_extension": ".py",
   "mimetype": "text/x-python",
   "name": "python",
   "nbconvert_exporter": "python",
   "pygments_lexer": "ipython3",
   "version": "3.10.12"
  }
 },
 "nbformat": 4,
 "nbformat_minor": 2
}
